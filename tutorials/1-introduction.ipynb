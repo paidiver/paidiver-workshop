{
 "cells": [
  {
   "cell_type": "markdown",
   "id": "63ce0734-aad1-48c2-948c-f6ad0606132f",
   "metadata": {},
   "source": [
    "# Simple pipeline processing"
   ]
  },
  {
   "cell_type": "markdown",
   "id": "a44838b7-ee09-4936-bc08-36e0e16254b4",
   "metadata": {},
   "source": [
    "### Minimal Pipeline Execution: Runs in just **3 lines of code**\n",
    "\n",
    "```python\n",
    "from paidiverpy.pipeline import Pipeline # import the package\n",
    "pipeline = Pipeline(config_file_path=\"config/dsp/config_introduction.yml\") # instantiate the class\n",
    "pipeline.run() # run the pipeline\n",
    "```"
   ]
  },
  {
   "cell_type": "markdown",
   "id": "facbaaac-39f7-44f6-b2a4-48af6ab37cf4",
   "metadata": {},
   "source": [
    "If you want to export the outputs, you need to run an extra line:\n",
    "\n",
    "```python\n",
    "pipeline.save_images() # export the images to the output path\n",
    "```"
   ]
  },
  {
   "cell_type": "markdown",
   "id": "03e7af07-f2d1-4728-b308-a0c90857bcb2",
   "metadata": {},
   "source": [
    "   "
   ]
  },
  {
   "cell_type": "markdown",
   "id": "87416b39-5162-4f4d-adf4-1cb88c000e90",
   "metadata": {},
   "source": [
    "### This is the configuration file:\n",
    "\n",
    "\n",
    "```yaml\n",
    "general:\n",
    "  input_path: \"/groups/paidiver/images/benthic_clarion\"\n",
    "  output_path: \"output\"\n",
    "  metadata_path: \"metadata/metadata_benthic_csv.csv\"\n",
    "  metadata_type: \"CSV_FILE\"\n",
    "  image_type: \"PNG\"\n",
    "  n_jobs: 1\n",
    "  sampling:\n",
    "    - mode: \"percent\"\n",
    "      name: \"sampling\"\n",
    "      params:\n",
    "        value: 0.1\n",
    "\n",
    "steps:\n",
    "  - colour:\n",
    "      name: \"colour_alteration\"\n",
    "      mode: \"colour_alteration\"\n",
    "      params:\n",
    "        method:\n",
    "          \"white_balance\"\n",
    "  - colour:\n",
    "      name: \"gaussian_blur\"\n",
    "      mode: \"gaussian_blur\"\n",
    "      params:\n",
    "        sigma: 1.0\n",
    "\n",
    "  - colour:\n",
    "      name: \"sharpen\"\n",
    "      mode: \"sharpen\"\n",
    "      params:\n",
    "        alpha: 1.5\n",
    "        beta: -0.5\n",
    "\n",
    "  - colour:\n",
    "      name: \"contrast\"\n",
    "      mode: \"contrast\"\n",
    "```"
   ]
  },
  {
   "cell_type": "markdown",
   "id": "d6daea80-3343-4f80-8210-993a34020fb3",
   "metadata": {},
   "source": [
    "### Sample data\n",
    "\n",
    "If you do not have examples datasets to use, you can use our sample dataset for testing purposes.\n",
    "In this case, you need to edit the configuration file in the general part:\n",
    "\n",
    "```yaml\n",
    "# Instead of these lines on the configuration file:\n",
    "general:\n",
    "  input_path: \"images\"\n",
    "  output_path: \"output\"\n",
    "  metadata_path: \"metadata/metadata_benthic_csv.csv\"\n",
    "  metadata_type: CSV_FILE\n",
    "\n",
    "# Please use these lines:\n",
    "general:\n",
    "  sample_data: \"benthic_ifdo\"\n",
    "```\n",
    "\n",
    "In this case, it will download the sample dataset \"benthic_ifdo\" automatically."
   ]
  },
  {
   "cell_type": "markdown",
   "id": "20357d09-ade1-4fb9-81df-df5b06cceef6",
   "metadata": {},
   "source": [
    "If you prefer, you can also download the sample dataset manually:"
   ]
  },
  {
   "cell_type": "code",
   "execution_count": 1,
   "id": "cd8cade5-722e-4843-a233-8df89acd9bf2",
   "metadata": {},
   "outputs": [
    {
     "data": {
      "text/plain": [
       "{'input_path': '/home/tobfer/.paidiverpy_cache/benthic_csv/images',\n",
       " 'metadata_path': '/home/tobfer/.paidiverpy_cache/benthic_csv/metadata/metadata_benthic_csv.csv',\n",
       " 'metadata_type': 'CSV_FILE',\n",
       " 'image_type': 'PNG',\n",
       " 'append_data_to_metadata': '/home/tobfer/.paidiverpy_cache/benthic_csv/metadata/appended_metadata_benthic_csv.csv'}"
      ]
     },
     "execution_count": 1,
     "metadata": {},
     "output_type": "execute_result"
    }
   ],
   "source": [
    "from paidiverpy.utils import data\n",
    "\n",
    "data.load(\"benthic_csv\")"
   ]
  },
  {
   "cell_type": "markdown",
   "id": "4c83abeb-029f-42dd-8dd3-8e9df0d0f85b",
   "metadata": {},
   "source": [
    "\n",
    "And then you can use the information above to update the configuration file with the correct paths.\n",
    "\n",
    "The file `config/config_simple_sample_data.yml` has an example of the configuration file with the sample data"
   ]
  },
  {
   "cell_type": "markdown",
   "id": "49e816e0-1cff-4072-9289-2d10e06c2df9",
   "metadata": {},
   "source": [
    "## Running the code"
   ]
  },
  {
   "cell_type": "markdown",
   "id": "8d326255-f400-4df6-824d-70c36c3bcf4f",
   "metadata": {},
   "source": [
    "Now, I will run the codes using the sample dataset"
   ]
  },
  {
   "cell_type": "code",
   "execution_count": null,
   "id": "cbea1bcd",
   "metadata": {},
   "outputs": [],
   "source": [
    "import os\n",
    "config_file_path = f\"{os.path.expanduser(\"~\")}/paidiver-workshop/tutorials/config/dsp/config_introduction_sample_data.yml\""
   ]
  },
  {
   "cell_type": "markdown",
   "id": "94925d7f",
   "metadata": {},
   "source": [
    "!IMPORTANT: PLEASE UPDATE THE OUTPUT PATH ON THE CONFIGURATION FILE"
   ]
  },
  {
   "cell_type": "code",
   "execution_count": null,
   "id": "f00299ae-1140-494b-99be-9fa8867c0ac8",
   "metadata": {},
   "outputs": [
    {
     "name": "stdout",
     "output_type": "stream",
     "text": [
      "\u001b[92m☁ paidiverpy ☁  |       INFO | 2025-02-27 19:13:24 | Processing images using 1 cores\u001b[0m\n",
      "\u001b[92m☁ paidiverpy ☁  |       INFO | 2025-02-27 19:13:24 | Running step 0: raw - OpenLayer\u001b[0m\n"
     ]
    },
    {
     "name": "stderr",
     "output_type": "stream",
     "text": [
      "Open Images: 100%|████████████████████████████████████████████████████████████████████| 44/44 [00:00<00:00, 391.66it/s]\n"
     ]
    },
    {
     "name": "stdout",
     "output_type": "stream",
     "text": [
      "\u001b[92m☁ paidiverpy ☁  |       INFO | 2025-02-27 19:13:24 | Step 0 completed\u001b[0m\n",
      "\u001b[92m☁ paidiverpy ☁  |       INFO | 2025-02-27 19:13:24 | Running step 1: colour_alteration - ColourLayer\u001b[0m\n"
     ]
    },
    {
     "name": "stderr",
     "output_type": "stream",
     "text": [
      "Processing images: 100%|█████████████████████████████████████████████████████████████| 44/44 [00:00<00:00, 1303.90it/s]"
     ]
    },
    {
     "name": "stdout",
     "output_type": "stream",
     "text": [
      "\u001b[92m☁ paidiverpy ☁  |       INFO | 2025-02-27 19:13:25 | Step 1 completed\u001b[0m\n"
     ]
    },
    {
     "name": "stderr",
     "output_type": "stream",
     "text": [
      "\n"
     ]
    },
    {
     "name": "stdout",
     "output_type": "stream",
     "text": [
      "\u001b[92m☁ paidiverpy ☁  |       INFO | 2025-02-27 19:13:25 | Running step 2: gaussian_blur - ColourLayer\u001b[0m\n"
     ]
    },
    {
     "name": "stderr",
     "output_type": "stream",
     "text": [
      "Processing images: 100%|█████████████████████████████████████████████████████████████| 44/44 [00:00<00:00, 3498.23it/s]\n"
     ]
    },
    {
     "name": "stdout",
     "output_type": "stream",
     "text": [
      "\u001b[92m☁ paidiverpy ☁  |       INFO | 2025-02-27 19:13:25 | Step 2 completed\u001b[0m\n",
      "\u001b[92m☁ paidiverpy ☁  |       INFO | 2025-02-27 19:13:25 | Running step 3: sharpen - ColourLayer\u001b[0m\n"
     ]
    },
    {
     "name": "stderr",
     "output_type": "stream",
     "text": [
      "Processing images: 100%|██████████████████████████████████████████████████████████████| 44/44 [00:00<00:00, 344.57it/s]"
     ]
    },
    {
     "name": "stdout",
     "output_type": "stream",
     "text": [
      "\u001b[92m☁ paidiverpy ☁  |       INFO | 2025-02-27 19:13:25 | Step 3 completed\u001b[0m\n"
     ]
    },
    {
     "name": "stderr",
     "output_type": "stream",
     "text": [
      "\n"
     ]
    },
    {
     "name": "stdout",
     "output_type": "stream",
     "text": [
      "\u001b[92m☁ paidiverpy ☁  |       INFO | 2025-02-27 19:13:25 | Running step 4: contrast - ColourLayer\u001b[0m\n"
     ]
    },
    {
     "name": "stderr",
     "output_type": "stream",
     "text": [
      "Processing images: 100%|███████████████████████████████████████████████████████████████| 44/44 [00:00<00:00, 71.20it/s]"
     ]
    },
    {
     "name": "stdout",
     "output_type": "stream",
     "text": [
      "\u001b[92m☁ paidiverpy ☁  |       INFO | 2025-02-27 19:13:26 | Step 4 completed\u001b[0m\n"
     ]
    },
    {
     "name": "stderr",
     "output_type": "stream",
     "text": [
      "\n"
     ]
    },
    {
     "name": "stdout",
     "output_type": "stream",
     "text": [
      "\u001b[92m☁ paidiverpy ☁  |       INFO | 2025-02-27 19:13:26 | Saving images from step: last\u001b[0m\n",
      "\u001b[92m☁ paidiverpy ☁  |       INFO | 2025-02-27 19:13:26 | Saving images\u001b[0m\n",
      "\u001b[92m☁ paidiverpy ☁  |       INFO | 2025-02-27 19:13:26 | Images are saved to: output\u001b[0m\n"
     ]
    }
   ],
   "source": [
    "from paidiverpy.pipeline import Pipeline\n",
    "pipeline = Pipeline(config_file_path=config_file_path)\n",
    "pipeline.run()\n",
    "pipeline.save_images()"
   ]
  },
  {
   "cell_type": "markdown",
   "id": "06579de4-9c12-453e-92db-bdcd31fe5e5f",
   "metadata": {},
   "source": [
    "## Running the same code on the command line"
   ]
  },
  {
   "cell_type": "markdown",
   "id": "1b7870e3-cedf-40f6-9b37-06add97aad93",
   "metadata": {},
   "source": [
    "```bash\n",
    "cd ~/paidiver-workshop/tutorials\n",
    "\n",
    "# if you are using DSP\n",
    "paidiverpy -c \"config/dsp/config_introduction.yml\"\n",
    "\n",
    "# if you are using JASMIN\n",
    "paidiverpy -c \"config/jasmin/config_introduction.yml\"\n",
    "```"
   ]
  },
  {
   "cell_type": "code",
   "execution_count": null,
   "id": "67dfd022-a3fa-4f79-a9aa-a159634e545a",
   "metadata": {},
   "outputs": [],
   "source": []
  }
 ],
 "metadata": {
  "kernelspec": {
   "display_name": "Python 3 (ipykernel)",
   "language": "python",
   "name": "python3"
  },
  "language_info": {
   "codemirror_mode": {
    "name": "ipython",
    "version": 3
   },
   "file_extension": ".py",
   "mimetype": "text/x-python",
   "name": "python",
   "nbconvert_exporter": "python",
   "pygments_lexer": "ipython3",
   "version": "3.10.12"
  }
 },
 "nbformat": 4,
 "nbformat_minor": 5
}
